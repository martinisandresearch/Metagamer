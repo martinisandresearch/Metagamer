{
 "cells": [
  {
   "cell_type": "code",
   "execution_count": null,
   "outputs": [],
   "source": [
    "# run first time\n",
    "!git clone https://github.com/martinisandresearch/metagamer.git\n",
    "!cd metagamer && git checkout <working branch>"
   ],
   "metadata": {
    "collapsed": false,
    "pycharm": {
     "name": "#%%\n"
    }
   }
  },
  {
   "cell_type": "code",
   "execution_count": null,
   "outputs": [],
   "source": [
    "# run each time you have a change in code\n",
    "!cd metagamer && git pull"
   ],
   "metadata": {
    "collapsed": false,
    "pycharm": {
     "name": "#%%\n"
    }
   }
  },
  {
   "cell_type": "code",
   "execution_count": null,
   "outputs": [],
   "source": [
    "# run for colab\n",
    "import sys\n",
    "if \"/content/metagamer\" not in sys.path:\n",
    "  sys.path.insert(0, \"/content/metagamer\")"
   ],
   "metadata": {
    "collapsed": false,
    "pycharm": {
     "name": "#%%\n"
    }
   }
  },
  {
   "cell_type": "code",
   "execution_count": null,
   "outputs": [],
   "source": [
    "from metagamer.agents import dqagent\n",
    "import torch\n",
    "import pandas as pd\n",
    "from matplotlib import pyplot as plt\n"
   ],
   "metadata": {
    "collapsed": false,
    "pycharm": {
     "name": "#%%\n"
    }
   }
  },
  {
   "cell_type": "code",
   "execution_count": null,
   "metadata": {
    "collapsed": true
   },
   "outputs": [],
   "source": [
    "p1 = dqagent.DQTicTacNetwork(\n",
    "    name=\"P1\",\n",
    "    hidden_dim=27,\n",
    "    lr=0.005,\n",
    "    lr_gamma=0.99,\n",
    "    lr_step=100,\n",
    "    max_memory_size=7000,\n",
    ")\n",
    "p1.gamma = 0.6\n",
    "\n",
    "p2 = dqagent.DQTicTacNetwork(\n",
    "    name=\"P2\",\n",
    "    hidden_dim=27,\n",
    "    lr=0.005,\n",
    "    lr_gamma=0.99,\n",
    "    lr_step=100,\n",
    "    max_memory_size=7000,\n",
    ")\n",
    "p2.gamma = 0.6\n",
    "\n",
    "new_dome = dqagent.DTicTacToeRunner(p1, p2)\n",
    "new_dome.min_episodes = 200\n",
    "new_dome.update_step = 10\n",
    "new_dome.update_repeats = 20\n",
    "new_dome.batch_size = 100\n",
    "new_dome.draw_reward = 1.0\n",
    "\n",
    "starting_eps = 0.8\n",
    "p2.train = True\n",
    "p1.train = True\n",
    "p1.epsilon = starting_eps\n",
    "p2.epsilon = starting_eps\n",
    "print(f\"epsilon {p1.epsilon:.2f}\", end=\" \")\n",
    "new_dome.train(400)\n",
    "p1.epsilon = 0.5\n",
    "p2.epsilon = 0.5\n",
    "print(f\"epsilon {p1.epsilon:.2f}\", end=\" \")\n",
    "new_dome.train(400)\n",
    "p1.epsilon = 0.2\n",
    "p2.epsilon = 0.2\n",
    "print(f\"epsilon {p1.epsilon:.2f}\", end=\" \")\n",
    "new_dome.train(800)\n",
    "p1.epsilon = 0.05\n",
    "p2.epsilon = 0.05\n",
    "print(f\"epsilon {p1.epsilon:.2f}\", end=\" \")\n",
    "new_dome.batch_size = 128\n",
    "new_dome.update_repeats = 30\n",
    "new_dome.train(2000)\n",
    "p1.epsilon = 0.01\n",
    "p2.epsilon = 0.01\n",
    "new_dome.batch_size = 130\n",
    "print(f\"epsilon {p1.epsilon:.2f}\", end=\" \")\n",
    "new_dome.train(1500)\n",
    "p1.positive_greedy = True\n",
    "p2.positive_greedy = True\n",
    "p1.epsilon = 0.05\n",
    "p2.epsilon = 0.05\n",
    "print(f\"epsilon {p1.epsilon:.2f}\", end=\" \")\n",
    "new_dome.train(1000)\n",
    "p1.positive_greedy = False\n",
    "p2.positive_greedy = False\n",
    "p1.epsilon = 0.01\n",
    "p2.epsilon = 0.01\n",
    "print(f\"epsilon {p1.epsilon:.2f}\", end=\" \")\n",
    "new_dome.train(1000)\n",
    "p1.gamma = 0.8\n",
    "p2.gamma = 0.8\n",
    "p1.epsilon = 0.0\n",
    "p2.epsilon = 0.0\n",
    "new_dome.train(1000)\n",
    "\n",
    "loss_df = pd.DataFrame(\n",
    "    {\n",
    "        \"P1mean\": new_dome.agent1meanloss,\n",
    "        \"P2mean\": new_dome.agent2meanloss,\n",
    "        \"P1umoves\": new_dome.agent1unique_moves_frac,\n",
    "        \"P2umoves\": new_dome.agent2unique_moves_frac,\n",
    "    }\n",
    ")\n",
    "loss_df.plot()\n",
    "plt.show()\n",
    "print(\"\\nNo training\")\n",
    "p1.train = False\n",
    "p2.train = False\n",
    "new_dome.train(100)\n",
    "# print(p1.Q_1(torch.zeros(9)))\n",
    "print(p1.Q_2(torch.zeros(9)))\n",
    "print(p1.Q_2(torch.tensor([0.0, 0.0, 0.0, 1.0, 1.0, 0.0, -1.0, -1.0, 0.0])))\n",
    "# tensor([0.5591, -0.8117, 0.0979,\n",
    "#         -0.5002, -1.1774, -0.1033,\n",
    "#         -2.0456, -1.0836, 0.6419])\n",
    "# print(p2.Q_1(torch.zeros(9)))\n",
    "print(p2.Q_2(torch.zeros(9)))\n",
    "print(p2.Q_2(torch.tensor([0.0, 1.0, 0.0, 1.0, 1.0, 0.0, -1.0, -1.0, 0.0])))\n",
    "# tensor([-0.0150, 0.1610, 0.3941,\n",
    "#         0.3336, -0.1797, -0.6697,\n",
    "#         0.6472, -0.6193, -0.0606])\n",
    "\n",
    "new_dome.run()\n"
   ]
  }
 ],
 "metadata": {
  "kernelspec": {
   "display_name": "Python 3",
   "language": "python",
   "name": "python3"
  },
  "language_info": {
   "codemirror_mode": {
    "name": "ipython",
    "version": 2
   },
   "file_extension": ".py",
   "mimetype": "text/x-python",
   "name": "python",
   "nbconvert_exporter": "python",
   "pygments_lexer": "ipython2",
   "version": "2.7.6"
  }
 },
 "nbformat": 4,
 "nbformat_minor": 0
}
